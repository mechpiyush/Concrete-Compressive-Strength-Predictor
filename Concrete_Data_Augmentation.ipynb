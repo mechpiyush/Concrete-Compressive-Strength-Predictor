{
  "cells": [
    {
      "cell_type": "code",
      "execution_count": null,
      "metadata": {
        "id": "heTsvxd4wd5Y"
      },
      "outputs": [],
      "source": [
        "import numpy as np\n",
        "import pandas as pd\n",
        "import matplotlib.pyplot as plt\n",
        "import seaborn as sb"
      ]
    },
    {
      "cell_type": "code",
      "execution_count": null,
      "metadata": {
        "id": "TUr74eayx70w"
      },
      "outputs": [],
      "source": [
        "df = pd.read_excel('/content/drive/MyDrive/ConcreteData.xlsx',2)"
      ]
    },
    {
      "cell_type": "code",
      "execution_count": null,
      "metadata": {
        "colab": {
          "base_uri": "https://localhost:8080/"
        },
        "id": "jnDAPEsAykXc",
        "outputId": "c15a4d01-85d7-4132-fb87-2ef17285595f"
      },
      "outputs": [
        {
          "name": "stdout",
          "output_type": "stream",
          "text": [
            "1102\n"
          ]
        }
      ],
      "source": [
        "print(len(df))"
      ]
    },
    {
      "cell_type": "code",
      "execution_count": null,
      "metadata": {
        "colab": {
          "base_uri": "https://localhost:8080/"
        },
        "id": "w4_ACf4C0ypb",
        "outputId": "092e41b7-2450-496c-c117-27d9dc4522b9"
      },
      "outputs": [
        {
          "name": "stdout",
          "output_type": "stream",
          "text": [
            "   Cement (component 1)(kg in a m^3 mixture)  \\\n",
            "0                                      108.3   \n",
            "1                                      122.6   \n",
            "2                                      102.0   \n",
            "3                                      153.0   \n",
            "4                                      141.3   \n",
            "\n",
            "   Blast Furnace Slag (component 2)(kg in a m^3 mixture)  \\\n",
            "0                                              162.4       \n",
            "1                                              183.9       \n",
            "2                                              153.0       \n",
            "3                                              102.0       \n",
            "4                                              212.0       \n",
            "\n",
            "   Fly Ash (component 3)(kg in a m^3 mixture)  \\\n",
            "0                                         0.0   \n",
            "1                                         0.0   \n",
            "2                                         0.0   \n",
            "3                                         0.0   \n",
            "4                                         0.0   \n",
            "\n",
            "   Water  (component 4)(kg in a m^3 mixture)  \\\n",
            "0                                      203.5   \n",
            "1                                      203.5   \n",
            "2                                      192.0   \n",
            "3                                      192.0   \n",
            "4                                      203.5   \n",
            "\n",
            "   Superplasticizer (component 5)(kg in a m^3 mixture)  \\\n",
            "0                                                0.0     \n",
            "1                                                0.0     \n",
            "2                                                0.0     \n",
            "3                                                0.0     \n",
            "4                                                0.0     \n",
            "\n",
            "   Coarse Aggregate  (component 6)(kg in a m^3 mixture)  \\\n",
            "0                                              938.2      \n",
            "1                                              958.2      \n",
            "2                                              887.0      \n",
            "3                                              888.0      \n",
            "4                                              971.8      \n",
            "\n",
            "   Fine Aggregate (component 7)(kg in a m^3 mixture)  Age (day)  \\\n",
            "0                                              849.0        3.0   \n",
            "1                                              800.1        3.0   \n",
            "2                                              942.0        3.0   \n",
            "3                                              943.1        3.0   \n",
            "4                                              748.5        3.0   \n",
            "\n",
            "   Concrete compressive strength(MPa, megapascals)        Type of Concrete  \n",
            "0                                              2.33  Low Strength Concrete  \n",
            "1                                              3.32  Low Strength Concrete  \n",
            "2                                              4.57  Low Strength Concrete  \n",
            "3                                              4.78  Low Strength Concrete  \n",
            "4                                              4.83  Low Strength Concrete  \n"
          ]
        }
      ],
      "source": [
        "print(df.head())"
      ]
    },
    {
      "cell_type": "code",
      "execution_count": null,
      "metadata": {
        "id": "7zZI-Ih61MAF"
      },
      "outputs": [],
      "source": [
        "# DATA CLEANING\n",
        "df = df.apply(pd.to_numeric, errors = \"coerce\")"
      ]
    },
    {
      "cell_type": "code",
      "execution_count": null,
      "metadata": {
        "colab": {
          "base_uri": "https://localhost:8080/"
        },
        "id": "5td_vFtf3F_k",
        "outputId": "c65821b4-4468-4cb7-eeae-a0e275810cbc"
      },
      "outputs": [
        {
          "name": "stdout",
          "output_type": "stream",
          "text": [
            "   Cement (component 1)(kg in a m^3 mixture)  \\\n",
            "0                                      108.3   \n",
            "1                                      122.6   \n",
            "2                                      102.0   \n",
            "3                                      153.0   \n",
            "4                                      141.3   \n",
            "\n",
            "   Blast Furnace Slag (component 2)(kg in a m^3 mixture)  \\\n",
            "0                                              162.4       \n",
            "1                                              183.9       \n",
            "2                                              153.0       \n",
            "3                                              102.0       \n",
            "4                                              212.0       \n",
            "\n",
            "   Fly Ash (component 3)(kg in a m^3 mixture)  \\\n",
            "0                                         0.0   \n",
            "1                                         0.0   \n",
            "2                                         0.0   \n",
            "3                                         0.0   \n",
            "4                                         0.0   \n",
            "\n",
            "   Water  (component 4)(kg in a m^3 mixture)  \\\n",
            "0                                      203.5   \n",
            "1                                      203.5   \n",
            "2                                      192.0   \n",
            "3                                      192.0   \n",
            "4                                      203.5   \n",
            "\n",
            "   Superplasticizer (component 5)(kg in a m^3 mixture)  \\\n",
            "0                                                0.0     \n",
            "1                                                0.0     \n",
            "2                                                0.0     \n",
            "3                                                0.0     \n",
            "4                                                0.0     \n",
            "\n",
            "   Coarse Aggregate  (component 6)(kg in a m^3 mixture)  \\\n",
            "0                                              938.2      \n",
            "1                                              958.2      \n",
            "2                                              887.0      \n",
            "3                                              888.0      \n",
            "4                                              971.8      \n",
            "\n",
            "   Fine Aggregate (component 7)(kg in a m^3 mixture)  Age (day)  \\\n",
            "0                                              849.0        3.0   \n",
            "1                                              800.1        3.0   \n",
            "2                                              942.0        3.0   \n",
            "3                                              943.1        3.0   \n",
            "4                                              748.5        3.0   \n",
            "\n",
            "   Concrete compressive strength(MPa, megapascals)   Type of Concrete  \n",
            "0                                              2.33               NaN  \n",
            "1                                              3.32               NaN  \n",
            "2                                              4.57               NaN  \n",
            "3                                              4.78               NaN  \n",
            "4                                              4.83               NaN  \n"
          ]
        }
      ],
      "source": [
        "print(df.head())"
      ]
    },
    {
      "cell_type": "code",
      "execution_count": null,
      "metadata": {
        "id": "QULluOMu1_BI"
      },
      "outputs": [],
      "source": [
        "# DATA REDUCTION\n",
        "df = df.drop(columns = ['Type of Concrete'])"
      ]
    },
    {
      "cell_type": "code",
      "execution_count": null,
      "metadata": {
        "colab": {
          "base_uri": "https://localhost:8080/"
        },
        "id": "AayS32wZ1sG7",
        "outputId": "759cc313-825c-40b4-c2d4-34fb6962a860"
      },
      "outputs": [
        {
          "name": "stdout",
          "output_type": "stream",
          "text": [
            "   Cement (component 1)(kg in a m^3 mixture)  \\\n",
            "0                                      108.3   \n",
            "1                                      122.6   \n",
            "2                                      102.0   \n",
            "\n",
            "   Blast Furnace Slag (component 2)(kg in a m^3 mixture)  \\\n",
            "0                                              162.4       \n",
            "1                                              183.9       \n",
            "2                                              153.0       \n",
            "\n",
            "   Fly Ash (component 3)(kg in a m^3 mixture)  \\\n",
            "0                                         0.0   \n",
            "1                                         0.0   \n",
            "2                                         0.0   \n",
            "\n",
            "   Water  (component 4)(kg in a m^3 mixture)  \\\n",
            "0                                      203.5   \n",
            "1                                      203.5   \n",
            "2                                      192.0   \n",
            "\n",
            "   Superplasticizer (component 5)(kg in a m^3 mixture)  \\\n",
            "0                                                0.0     \n",
            "1                                                0.0     \n",
            "2                                                0.0     \n",
            "\n",
            "   Coarse Aggregate  (component 6)(kg in a m^3 mixture)  \\\n",
            "0                                              938.2      \n",
            "1                                              958.2      \n",
            "2                                              887.0      \n",
            "\n",
            "   Fine Aggregate (component 7)(kg in a m^3 mixture)  Age (day)  \\\n",
            "0                                              849.0        3.0   \n",
            "1                                              800.1        3.0   \n",
            "2                                              942.0        3.0   \n",
            "\n",
            "   Concrete compressive strength(MPa, megapascals)   \n",
            "0                                              2.33  \n",
            "1                                              3.32  \n",
            "2                                              4.57  \n"
          ]
        }
      ],
      "source": [
        "print(df.head(3))"
      ]
    },
    {
      "cell_type": "code",
      "execution_count": null,
      "metadata": {
        "colab": {
          "base_uri": "https://localhost:8080/"
        },
        "id": "wkMZVKxOEuk2",
        "outputId": "38d47324-1df1-4bdb-c828-7970c5c7a387"
      },
      "outputs": [
        {
          "name": "stdout",
          "output_type": "stream",
          "text": [
            "<class 'pandas.core.frame.DataFrame'>\n",
            "RangeIndex: 1102 entries, 0 to 1101\n",
            "Data columns (total 9 columns):\n",
            " #   Column                                                 Non-Null Count  Dtype  \n",
            "---  ------                                                 --------------  -----  \n",
            " 0   Cement (component 1)(kg in a m^3 mixture)              1102 non-null   float64\n",
            " 1   Blast Furnace Slag (component 2)(kg in a m^3 mixture)  1102 non-null   float64\n",
            " 2   Fly Ash (component 3)(kg in a m^3 mixture)             1102 non-null   float64\n",
            " 3   Water  (component 4)(kg in a m^3 mixture)              1102 non-null   float64\n",
            " 4   Superplasticizer (component 5)(kg in a m^3 mixture)    1102 non-null   float64\n",
            " 5   Coarse Aggregate  (component 6)(kg in a m^3 mixture)   1102 non-null   float64\n",
            " 6   Fine Aggregate (component 7)(kg in a m^3 mixture)      1102 non-null   float64\n",
            " 7   Age (day)                                              1102 non-null   float64\n",
            " 8   Concrete compressive strength(MPa, megapascals)        1102 non-null   float64\n",
            "dtypes: float64(9)\n",
            "memory usage: 77.6 KB\n"
          ]
        }
      ],
      "source": [
        "df.info()"
      ]
    },
    {
      "cell_type": "code",
      "execution_count": null,
      "metadata": {
        "id": "nw2vsmDc3Fdk"
      },
      "outputs": [],
      "source": [
        "df = df.dropna()"
      ]
    },
    {
      "cell_type": "code",
      "execution_count": null,
      "metadata": {
        "colab": {
          "base_uri": "https://localhost:8080/"
        },
        "id": "quuSuN4M28iY",
        "outputId": "66d4c5f7-4066-40a9-9c61-9edae201f6c8"
      },
      "outputs": [
        {
          "name": "stdout",
          "output_type": "stream",
          "text": [
            "   Cement (component 1)(kg in a m^3 mixture)  \\\n",
            "0                                      108.3   \n",
            "1                                      122.6   \n",
            "2                                      102.0   \n",
            "\n",
            "   Blast Furnace Slag (component 2)(kg in a m^3 mixture)  \\\n",
            "0                                              162.4       \n",
            "1                                              183.9       \n",
            "2                                              153.0       \n",
            "\n",
            "   Fly Ash (component 3)(kg in a m^3 mixture)  \\\n",
            "0                                         0.0   \n",
            "1                                         0.0   \n",
            "2                                         0.0   \n",
            "\n",
            "   Water  (component 4)(kg in a m^3 mixture)  \\\n",
            "0                                      203.5   \n",
            "1                                      203.5   \n",
            "2                                      192.0   \n",
            "\n",
            "   Superplasticizer (component 5)(kg in a m^3 mixture)  \\\n",
            "0                                                0.0     \n",
            "1                                                0.0     \n",
            "2                                                0.0     \n",
            "\n",
            "   Coarse Aggregate  (component 6)(kg in a m^3 mixture)  \\\n",
            "0                                              938.2      \n",
            "1                                              958.2      \n",
            "2                                              887.0      \n",
            "\n",
            "   Fine Aggregate (component 7)(kg in a m^3 mixture)  Age (day)  \\\n",
            "0                                              849.0        3.0   \n",
            "1                                              800.1        3.0   \n",
            "2                                              942.0        3.0   \n",
            "\n",
            "   Concrete compressive strength(MPa, megapascals)   \n",
            "0                                              2.33  \n",
            "1                                              3.32  \n",
            "2                                              4.57  \n"
          ]
        }
      ],
      "source": [
        "print(df.head(3))"
      ]
    },
    {
      "cell_type": "code",
      "execution_count": null,
      "metadata": {
        "id": "kLThms4O2a4l"
      },
      "outputs": [],
      "source": [
        "# DATA AUGMENTATION\n",
        "cement = df['Cement (component 1)(kg in a m^3 mixture)']\n",
        "slag = df['Blast Furnace Slag (component 2)(kg in a m^3 mixture)']\n",
        "ash = df['Fly Ash (component 3)(kg in a m^3 mixture)']\n",
        "water = df['Water  (component 4)(kg in a m^3 mixture)']\n",
        "plasticizer = df['Superplasticizer (component 5)(kg in a m^3 mixture)']\n",
        "coarse_aggregate = df['Coarse Aggregate  (component 6)(kg in a m^3 mixture)']\n",
        "fine_aggregate = df['Fine Aggregate (component 7)(kg in a m^3 mixture)']\n",
        "age = df['Age (day)']\n",
        "CCS = df['Concrete compressive strength(MPa, megapascals) ']\n",
        "\n",
        "# STD DEVIATIONS\n",
        "cement_STD = np.std(cement)\n",
        "slag_STD = np.std(slag)\n",
        "ash_STD = np.std(ash)\n",
        "water_STD = np.std(water)\n",
        "plasticizer_STD = np.std(plasticizer)\n",
        "coarse_aggregate_STD = np.std(coarse_aggregate)\n",
        "fine_aggregate_STD = np.std(fine_aggregate)\n",
        "age_STD = np.std(age)\n",
        "CCS_STD = np.std(CCS)"
      ]
    },
    {
      "cell_type": "code",
      "execution_count": null,
      "metadata": {
        "colab": {
          "base_uri": "https://localhost:8080/",
          "height": 265
        },
        "id": "yhMi-OtpeF-5",
        "outputId": "1d159764-f110-4833-bb75-9f094965fcd2"
      },
      "outputs": [
        {
          "data": {
            "image/png": "[encoded data removed]",
            "text/plain": [
              "<Figure size 432x288 with 1 Axes>"
            ]
          },
          "metadata": {},
          "output_type": "display_data"
        }
      ],
      "source": [
        "# DATA VISUALISATION\n",
        "\n",
        "import matplotlib as pylib\n",
        "import matplotlib.pyplot as plt\n",
        "\n",
        "plt.plot(cement, CCS, 'ro');"
      ]
    },
    {
      "cell_type": "code",
      "execution_count": null,
      "metadata": {
        "colab": {
          "base_uri": "https://localhost:8080/"
        },
        "id": "Nys3sStg6xjK",
        "outputId": "f840890a-049c-4a5a-a390-2d8ca1f49c46"
      },
      "outputs": [
        {
          "name": "stdout",
          "output_type": "stream",
          "text": [
            "3306 entries created successfully...\n"
          ]
        }
      ],
      "source": [
        "dataset = []\n",
        "\n",
        "for _,row in df.iterrows():\n",
        "    temp = {\n",
        "        'cement': row['Cement (component 1)(kg in a m^3 mixture)'],\n",
        "        'slag': row['Blast Furnace Slag (component 2)(kg in a m^3 mixture)'],\n",
        "        'ash': row['Fly Ash (component 3)(kg in a m^3 mixture)'],\n",
        "        'water': row['Water  (component 4)(kg in a m^3 mixture)'],\n",
        "        'plasticizer': row['Superplasticizer (component 5)(kg in a m^3 mixture)'],\n",
        "        'coarse_aggregate': row['Coarse Aggregate  (component 6)(kg in a m^3 mixture)'],\n",
        "        'fine_aggregate': row['Fine Aggregate (component 7)(kg in a m^3 mixture)'],\n",
        "        'age': row['Age (day)'],\n",
        "        'CCS': row['Concrete compressive strength(MPa, megapascals) ']\n",
        "    }\n",
        "    dataset.append(temp)\n",
        "\n",
        "for _ in range(2):\n",
        "  for _,row in df.iterrows():\n",
        "    temp = {\n",
        "        'cement': round((row['Cement (component 1)(kg in a m^3 mixture)'] + np.random.uniform(cement_STD)),2),\n",
        "        'slag': round((row['Blast Furnace Slag (component 2)(kg in a m^3 mixture)'] + np.random.uniform(slag_STD)),2),\n",
        "        'ash': round((row['Fly Ash (component 3)(kg in a m^3 mixture)'] + np.random.uniform(ash_STD)),2),\n",
        "        'water': round((row['Water  (component 4)(kg in a m^3 mixture)'] + np.random.uniform(water_STD)),2),\n",
        "        'plasticizer': round((row['Superplasticizer (component 5)(kg in a m^3 mixture)'] + np.random.uniform(plasticizer_STD)),2),\n",
        "        'coarse_aggregate': round((row['Coarse Aggregate  (component 6)(kg in a m^3 mixture)'] + np.random.uniform(coarse_aggregate_STD)),2),\n",
        "        'fine_aggregate': round((row['Fine Aggregate (component 7)(kg in a m^3 mixture)'] + np.random.uniform(fine_aggregate_STD)),2),\n",
        "        'age': round((row['Age (day)'] + np.random.uniform(age_STD)),2),\n",
        "        'CCS': round((row['Concrete compressive strength(MPa, megapascals) '] + np.random.uniform(CCS_STD)),2)\n",
        "    }\n",
        "    dataset.append(temp)\n",
        "print(len(dataset), \"entries created successfully...\")"
      ]
    },
    {
      "cell_type": "code",
      "execution_count": null,
      "metadata": {
        "id": "MrKeNZNk03Yi"
      },
      "outputs": [],
      "source": [
        "df = pd.DataFrame(dataset)\n",
        "df.to_csv('Augmented_Concrete_Data.csv')"
      ]
    },
    {
      "cell_type": "code",
      "execution_count": null,
      "metadata": {
        "colab": {
          "base_uri": "https://localhost:8080/",
          "height": 424
        },
        "id": "iErGK2B4MbPp",
        "outputId": "c953fa7c-ad23-42a3-de38-d93e1085fe84"
      },
      "outputs": [
        {
          "data": {
            "text/html": [
              "\n",
              "  <div id=\"df-e463eddf-4d08-48d1-9a7e-c0946c8908aa\">\n",
              "    <div class=\"colab-df-container\">\n",
              "      <div>\n",
              "<style scoped>\n",
              "    .dataframe tbody tr th:only-of-type {\n",
              "        vertical-align: middle;\n",
              "    }\n",
              "\n",
              "    .dataframe tbody tr th {\n",
              "        vertical-align: top;\n",
              "    }\n",
              "\n",
              "    .dataframe thead th {\n",
              "        text-align: right;\n",
              "    }\n",
              "</style>\n",
              "<table border=\"1\" class=\"dataframe\">\n",
              "  <thead>\n",
              "    <tr style=\"text-align: right;\">\n",
              "      <th></th>\n",
              "      <th>Unnamed: 0</th>\n",
              "      <th>cement</th>\n",
              "      <th>slag</th>\n",
              "      <th>ash</th>\n",
              "      <th>water</th>\n",
              "      <th>plasticizer</th>\n",
              "      <th>coarse_aggregate</th>\n",
              "      <th>fine_aggregate</th>\n",
              "      <th>age</th>\n",
              "      <th>CCS</th>\n",
              "    </tr>\n",
              "  </thead>\n",
              "  <tbody>\n",
              "    <tr>\n",
              "      <th>0</th>\n",
              "      <td>0</td>\n",
              "      <td>108.30</td>\n",
              "      <td>162.40</td>\n",
              "      <td>0.00</td>\n",
              "      <td>203.50</td>\n",
              "      <td>0.00</td>\n",
              "      <td>938.20</td>\n",
              "      <td>849.00</td>\n",
              "      <td>3.00</td>\n",
              "      <td>2.33</td>\n",
              "    </tr>\n",
              "    <tr>\n",
              "      <th>1</th>\n",
              "      <td>1</td>\n",
              "      <td>122.60</td>\n",
              "      <td>183.90</td>\n",
              "      <td>0.00</td>\n",
              "      <td>203.50</td>\n",
              "      <td>0.00</td>\n",
              "      <td>958.20</td>\n",
              "      <td>800.10</td>\n",
              "      <td>3.00</td>\n",
              "      <td>3.32</td>\n",
              "    </tr>\n",
              "    <tr>\n",
              "      <th>2</th>\n",
              "      <td>2</td>\n",
              "      <td>102.00</td>\n",
              "      <td>153.00</td>\n",
              "      <td>0.00</td>\n",
              "      <td>192.00</td>\n",
              "      <td>0.00</td>\n",
              "      <td>887.00</td>\n",
              "      <td>942.00</td>\n",
              "      <td>3.00</td>\n",
              "      <td>4.57</td>\n",
              "    </tr>\n",
              "    <tr>\n",
              "      <th>3</th>\n",
              "      <td>3</td>\n",
              "      <td>153.00</td>\n",
              "      <td>102.00</td>\n",
              "      <td>0.00</td>\n",
              "      <td>192.00</td>\n",
              "      <td>0.00</td>\n",
              "      <td>888.00</td>\n",
              "      <td>943.10</td>\n",
              "      <td>3.00</td>\n",
              "      <td>4.78</td>\n",
              "    </tr>\n",
              "    <tr>\n",
              "      <th>4</th>\n",
              "      <td>4</td>\n",
              "      <td>141.30</td>\n",
              "      <td>212.00</td>\n",
              "      <td>0.00</td>\n",
              "      <td>203.50</td>\n",
              "      <td>0.00</td>\n",
              "      <td>971.80</td>\n",
              "      <td>748.50</td>\n",
              "      <td>3.00</td>\n",
              "      <td>4.83</td>\n",
              "    </tr>\n",
              "    <tr>\n",
              "      <th>...</th>\n",
              "      <td>...</td>\n",
              "      <td>...</td>\n",
              "      <td>...</td>\n",
              "      <td>...</td>\n",
              "      <td>...</td>\n",
              "      <td>...</td>\n",
              "      <td>...</td>\n",
              "      <td>...</td>\n",
              "      <td>...</td>\n",
              "      <td>...</td>\n",
              "    </tr>\n",
              "    <tr>\n",
              "      <th>3301</th>\n",
              "      <td>3301</td>\n",
              "      <td>464.80</td>\n",
              "      <td>255.03</td>\n",
              "      <td>4.56</td>\n",
              "      <td>147.74</td>\n",
              "      <td>24.07</td>\n",
              "      <td>1108.31</td>\n",
              "      <td>805.74</td>\n",
              "      <td>90.67</td>\n",
              "      <td>87.41</td>\n",
              "    </tr>\n",
              "    <tr>\n",
              "      <th>3302</th>\n",
              "      <td>3302</td>\n",
              "      <td>544.56</td>\n",
              "      <td>37.07</td>\n",
              "      <td>26.80</td>\n",
              "      <td>173.08</td>\n",
              "      <td>6.26</td>\n",
              "      <td>1238.85</td>\n",
              "      <td>726.83</td>\n",
              "      <td>60.61</td>\n",
              "      <td>96.25</td>\n",
              "    </tr>\n",
              "    <tr>\n",
              "      <th>3303</th>\n",
              "      <td>3303</td>\n",
              "      <td>424.47</td>\n",
              "      <td>333.90</td>\n",
              "      <td>58.52</td>\n",
              "      <td>201.71</td>\n",
              "      <td>13.63</td>\n",
              "      <td>957.99</td>\n",
              "      <td>733.58</td>\n",
              "      <td>63.57</td>\n",
              "      <td>83.45</td>\n",
              "    </tr>\n",
              "    <tr>\n",
              "      <th>3304</th>\n",
              "      <td>3304</td>\n",
              "      <td>363.52</td>\n",
              "      <td>151.07</td>\n",
              "      <td>49.06</td>\n",
              "      <td>152.31</td>\n",
              "      <td>10.65</td>\n",
              "      <td>1204.45</td>\n",
              "      <td>755.23</td>\n",
              "      <td>58.45</td>\n",
              "      <td>87.49</td>\n",
              "    </tr>\n",
              "    <tr>\n",
              "      <th>3305</th>\n",
              "      <td>3305</td>\n",
              "      <td>462.83</td>\n",
              "      <td>262.17</td>\n",
              "      <td>11.01</td>\n",
              "      <td>148.75</td>\n",
              "      <td>23.92</td>\n",
              "      <td>989.30</td>\n",
              "      <td>768.38</td>\n",
              "      <td>114.61</td>\n",
              "      <td>95.63</td>\n",
              "    </tr>\n",
              "  </tbody>\n",
              "</table>\n",
              "<p>3306 rows × 10 columns</p>\n",
              "</div>\n",
              "      <button class=\"colab-df-convert\" onclick=\"convertToInteractive('df-e463eddf-4d08-48d1-9a7e-c0946c8908aa')\"\n",
              "              title=\"Convert this dataframe to an interactive table.\"\n",
              "              style=\"display:none;\">\n",
              "        \n",
              "  <svg xmlns=\"http://www.w3.org/2000/svg\" height=\"24px\"viewBox=\"0 0 24 24\"\n",
              "       width=\"24px\">\n",
              "    <path d=\"M0 0h24v24H0V0z\" fill=\"none\"/>\n",
              "    <path d=\"M18.56 5.44l.94 2.06.94-2.06 2.06-.94-2.06-.94-.94-2.06-.94 2.06-2.06.94zm-11 1L8.5 8.5l.94-2.06 2.06-.94-2.06-.94L8.5 2.5l-.94 2.06-2.06.94zm10 10l.94 2.06.94-2.06 2.06-.94-2.06-.94-.94-2.06-.94 2.06-2.06.94z\"/><path d=\"M17.41 7.96l-1.37-1.37c-.4-.4-.92-.59-1.43-.59-.52 0-1.04.2-1.43.59L10.3 9.45l-7.72 7.72c-.78.78-.78 2.05 0 2.83L4 21.41c.39.39.9.59 1.41.59.51 0 1.02-.2 1.41-.59l7.78-7.78 2.81-2.81c.8-.78.8-2.07 0-2.86zM5.41 20L4 18.59l7.72-7.72 1.47 1.35L5.41 20z\"/>\n",
              "  </svg>\n",
              "      </button>\n",
              "      \n",
              "  <style>\n",
              "    .colab-df-container {\n",
              "      display:flex;\n",
              "      flex-wrap:wrap;\n",
              "      gap: 12px;\n",
              "    }\n",
              "\n",
              "    .colab-df-convert {\n",
              "      background-color: #E8F0FE;\n",
              "      border: none;\n",
              "      border-radius: 50%;\n",
              "      cursor: pointer;\n",
              "      display: none;\n",
              "      fill: #1967D2;\n",
              "      height: 32px;\n",
              "      padding: 0 0 0 0;\n",
              "      width: 32px;\n",
              "    }\n",
              "\n",
              "    .colab-df-convert:hover {\n",
              "      background-color: #E2EBFA;\n",
              "      box-shadow: 0px 1px 2px rgba(60, 64, 67, 0.3), 0px 1px 3px 1px rgba(60, 64, 67, 0.15);\n",
              "      fill: #174EA6;\n",
              "    }\n",
              "\n",
              "    [theme=dark] .colab-df-convert {\n",
              "      background-color: #3B4455;\n",
              "      fill: #D2E3FC;\n",
              "    }\n",
              "\n",
              "    [theme=dark] .colab-df-convert:hover {\n",
              "      background-color: #434B5C;\n",
              "      box-shadow: 0px 1px 3px 1px rgba(0, 0, 0, 0.15);\n",
              "      filter: drop-shadow(0px 1px 2px rgba(0, 0, 0, 0.3));\n",
              "      fill: #FFFFFF;\n",
              "    }\n",
              "  </style>\n",
              "\n",
              "      <script>\n",
              "        const buttonEl =\n",
              "          document.querySelector('#df-e463eddf-4d08-48d1-9a7e-c0946c8908aa button.colab-df-convert');\n",
              "        buttonEl.style.display =\n",
              "          google.colab.kernel.accessAllowed ? 'block' : 'none';\n",
              "\n",
              "        async function convertToInteractive(key) {\n",
              "          const element = document.querySelector('#df-e463eddf-4d08-48d1-9a7e-c0946c8908aa');\n",
              "          const dataTable =\n",
              "            await google.colab.kernel.invokeFunction('convertToInteractive',\n",
              "                                                     [key], {});\n",
              "          if (!dataTable) return;\n",
              "\n",
              "          const docLinkHtml = 'Like what you see? Visit the ' +\n",
              "            '<a target=\"_blank\" href=https://colab.research.google.com/notebooks/data_table.ipynb>data table notebook</a>'\n",
              "            + ' to learn more about interactive tables.';\n",
              "          element.innerHTML = '';\n",
              "          dataTable['output_type'] = 'display_data';\n",
              "          await google.colab.output.renderOutput(dataTable, element);\n",
              "          const docLink = document.createElement('div');\n",
              "          docLink.innerHTML = docLinkHtml;\n",
              "          element.appendChild(docLink);\n",
              "        }\n",
              "      </script>\n",
              "    </div>\n",
              "  </div>\n",
              "  "
            ],
            "text/plain": [
              "      Unnamed: 0  cement    slag    ash   water  plasticizer  \\\n",
              "0              0  108.30  162.40   0.00  203.50         0.00   \n",
              "1              1  122.60  183.90   0.00  203.50         0.00   \n",
              "2              2  102.00  153.00   0.00  192.00         0.00   \n",
              "3              3  153.00  102.00   0.00  192.00         0.00   \n",
              "4              4  141.30  212.00   0.00  203.50         0.00   \n",
              "...          ...     ...     ...    ...     ...          ...   \n",
              "3301        3301  464.80  255.03   4.56  147.74        24.07   \n",
              "3302        3302  544.56   37.07  26.80  173.08         6.26   \n",
              "3303        3303  424.47  333.90  58.52  201.71        13.63   \n",
              "3304        3304  363.52  151.07  49.06  152.31        10.65   \n",
              "3305        3305  462.83  262.17  11.01  148.75        23.92   \n",
              "\n",
              "      coarse_aggregate  fine_aggregate     age    CCS  \n",
              "0               938.20          849.00    3.00   2.33  \n",
              "1               958.20          800.10    3.00   3.32  \n",
              "2               887.00          942.00    3.00   4.57  \n",
              "3               888.00          943.10    3.00   4.78  \n",
              "4               971.80          748.50    3.00   4.83  \n",
              "...                ...             ...     ...    ...  \n",
              "3301           1108.31          805.74   90.67  87.41  \n",
              "3302           1238.85          726.83   60.61  96.25  \n",
              "3303            957.99          733.58   63.57  83.45  \n",
              "3304           1204.45          755.23   58.45  87.49  \n",
              "3305            989.30          768.38  114.61  95.63  \n",
              "\n",
              "[3306 rows x 10 columns]"
            ]
          },
          "execution_count": 16,
          "metadata": {},
          "output_type": "execute_result"
        }
      ],
      "source": [
        "df = pd.read_csv('Augmented_Concrete_Data.csv')\n",
        "df"
      ]
    },
    {
      "cell_type": "code",
      "execution_count": null,
      "metadata": {
        "id": "s0sfuOySMbMK"
      },
      "outputs": [],
      "source": [
        "df = df.drop(columns = ['Unnamed: 0'])"
      ]
    },
    {
      "cell_type": "code",
      "execution_count": null,
      "metadata": {
        "colab": {
          "base_uri": "https://localhost:8080/",
          "height": 424
        },
        "id": "vZA2AVedMbJa",
        "outputId": "884f7168-b113-4636-d91a-8df03a1710ba"
      },
      "outputs": [
        {
          "data": {
            "text/html": [
              "\n",
              "  <div id=\"df-b489ad1a-5ec7-4d7e-8c0f-cd07f321409f\">\n",
              "    <div class=\"colab-df-container\">\n",
              "      <div>\n",
              "<style scoped>\n",
              "    .dataframe tbody tr th:only-of-type {\n",
              "        vertical-align: middle;\n",
              "    }\n",
              "\n",
              "    .dataframe tbody tr th {\n",
              "        vertical-align: top;\n",
              "    }\n",
              "\n",
              "    .dataframe thead th {\n",
              "        text-align: right;\n",
              "    }\n",
              "</style>\n",
              "<table border=\"1\" class=\"dataframe\">\n",
              "  <thead>\n",
              "    <tr style=\"text-align: right;\">\n",
              "      <th></th>\n",
              "      <th>cement</th>\n",
              "      <th>slag</th>\n",
              "      <th>ash</th>\n",
              "      <th>water</th>\n",
              "      <th>plasticizer</th>\n",
              "      <th>coarse_aggregate</th>\n",
              "      <th>fine_aggregate</th>\n",
              "      <th>age</th>\n",
              "      <th>CCS</th>\n",
              "    </tr>\n",
              "  </thead>\n",
              "  <tbody>\n",
              "    <tr>\n",
              "      <th>0</th>\n",
              "      <td>108.30</td>\n",
              "      <td>162.40</td>\n",
              "      <td>0.00</td>\n",
              "      <td>203.50</td>\n",
              "      <td>0.00</td>\n",
              "      <td>938.20</td>\n",
              "      <td>849.00</td>\n",
              "      <td>3.00</td>\n",
              "      <td>2.33</td>\n",
              "    </tr>\n",
              "    <tr>\n",
              "      <th>1</th>\n",
              "      <td>122.60</td>\n",
              "      <td>183.90</td>\n",
              "      <td>0.00</td>\n",
              "      <td>203.50</td>\n",
              "      <td>0.00</td>\n",
              "      <td>958.20</td>\n",
              "      <td>800.10</td>\n",
              "      <td>3.00</td>\n",
              "      <td>3.32</td>\n",
              "    </tr>\n",
              "    <tr>\n",
              "      <th>2</th>\n",
              "      <td>102.00</td>\n",
              "      <td>153.00</td>\n",
              "      <td>0.00</td>\n",
              "      <td>192.00</td>\n",
              "      <td>0.00</td>\n",
              "      <td>887.00</td>\n",
              "      <td>942.00</td>\n",
              "      <td>3.00</td>\n",
              "      <td>4.57</td>\n",
              "    </tr>\n",
              "    <tr>\n",
              "      <th>3</th>\n",
              "      <td>153.00</td>\n",
              "      <td>102.00</td>\n",
              "      <td>0.00</td>\n",
              "      <td>192.00</td>\n",
              "      <td>0.00</td>\n",
              "      <td>888.00</td>\n",
              "      <td>943.10</td>\n",
              "      <td>3.00</td>\n",
              "      <td>4.78</td>\n",
              "    </tr>\n",
              "    <tr>\n",
              "      <th>4</th>\n",
              "      <td>141.30</td>\n",
              "      <td>212.00</td>\n",
              "      <td>0.00</td>\n",
              "      <td>203.50</td>\n",
              "      <td>0.00</td>\n",
              "      <td>971.80</td>\n",
              "      <td>748.50</td>\n",
              "      <td>3.00</td>\n",
              "      <td>4.83</td>\n",
              "    </tr>\n",
              "    <tr>\n",
              "      <th>...</th>\n",
              "      <td>...</td>\n",
              "      <td>...</td>\n",
              "      <td>...</td>\n",
              "      <td>...</td>\n",
              "      <td>...</td>\n",
              "      <td>...</td>\n",
              "      <td>...</td>\n",
              "      <td>...</td>\n",
              "      <td>...</td>\n",
              "    </tr>\n",
              "    <tr>\n",
              "      <th>3301</th>\n",
              "      <td>464.80</td>\n",
              "      <td>255.03</td>\n",
              "      <td>4.56</td>\n",
              "      <td>147.74</td>\n",
              "      <td>24.07</td>\n",
              "      <td>1108.31</td>\n",
              "      <td>805.74</td>\n",
              "      <td>90.67</td>\n",
              "      <td>87.41</td>\n",
              "    </tr>\n",
              "    <tr>\n",
              "      <th>3302</th>\n",
              "      <td>544.56</td>\n",
              "      <td>37.07</td>\n",
              "      <td>26.80</td>\n",
              "      <td>173.08</td>\n",
              "      <td>6.26</td>\n",
              "      <td>1238.85</td>\n",
              "      <td>726.83</td>\n",
              "      <td>60.61</td>\n",
              "      <td>96.25</td>\n",
              "    </tr>\n",
              "    <tr>\n",
              "      <th>3303</th>\n",
              "      <td>424.47</td>\n",
              "      <td>333.90</td>\n",
              "      <td>58.52</td>\n",
              "      <td>201.71</td>\n",
              "      <td>13.63</td>\n",
              "      <td>957.99</td>\n",
              "      <td>733.58</td>\n",
              "      <td>63.57</td>\n",
              "      <td>83.45</td>\n",
              "    </tr>\n",
              "    <tr>\n",
              "      <th>3304</th>\n",
              "      <td>363.52</td>\n",
              "      <td>151.07</td>\n",
              "      <td>49.06</td>\n",
              "      <td>152.31</td>\n",
              "      <td>10.65</td>\n",
              "      <td>1204.45</td>\n",
              "      <td>755.23</td>\n",
              "      <td>58.45</td>\n",
              "      <td>87.49</td>\n",
              "    </tr>\n",
              "    <tr>\n",
              "      <th>3305</th>\n",
              "      <td>462.83</td>\n",
              "      <td>262.17</td>\n",
              "      <td>11.01</td>\n",
              "      <td>148.75</td>\n",
              "      <td>23.92</td>\n",
              "      <td>989.30</td>\n",
              "      <td>768.38</td>\n",
              "      <td>114.61</td>\n",
              "      <td>95.63</td>\n",
              "    </tr>\n",
              "  </tbody>\n",
              "</table>\n",
              "<p>3306 rows × 9 columns</p>\n",
              "</div>\n",
              "      <button class=\"colab-df-convert\" onclick=\"convertToInteractive('df-b489ad1a-5ec7-4d7e-8c0f-cd07f321409f')\"\n",
              "              title=\"Convert this dataframe to an interactive table.\"\n",
              "              style=\"display:none;\">\n",
              "        \n",
              "  <svg xmlns=\"http://www.w3.org/2000/svg\" height=\"24px\"viewBox=\"0 0 24 24\"\n",
              "       width=\"24px\">\n",
              "    <path d=\"M0 0h24v24H0V0z\" fill=\"none\"/>\n",
              "    <path d=\"M18.56 5.44l.94 2.06.94-2.06 2.06-.94-2.06-.94-.94-2.06-.94 2.06-2.06.94zm-11 1L8.5 8.5l.94-2.06 2.06-.94-2.06-.94L8.5 2.5l-.94 2.06-2.06.94zm10 10l.94 2.06.94-2.06 2.06-.94-2.06-.94-.94-2.06-.94 2.06-2.06.94z\"/><path d=\"M17.41 7.96l-1.37-1.37c-.4-.4-.92-.59-1.43-.59-.52 0-1.04.2-1.43.59L10.3 9.45l-7.72 7.72c-.78.78-.78 2.05 0 2.83L4 21.41c.39.39.9.59 1.41.59.51 0 1.02-.2 1.41-.59l7.78-7.78 2.81-2.81c.8-.78.8-2.07 0-2.86zM5.41 20L4 18.59l7.72-7.72 1.47 1.35L5.41 20z\"/>\n",
              "  </svg>\n",
              "      </button>\n",
              "      \n",
              "  <style>\n",
              "    .colab-df-container {\n",
              "      display:flex;\n",
              "      flex-wrap:wrap;\n",
              "      gap: 12px;\n",
              "    }\n",
              "\n",
              "    .colab-df-convert {\n",
              "      background-color: #E8F0FE;\n",
              "      border: none;\n",
              "      border-radius: 50%;\n",
              "      cursor: pointer;\n",
              "      display: none;\n",
              "      fill: #1967D2;\n",
              "      height: 32px;\n",
              "      padding: 0 0 0 0;\n",
              "      width: 32px;\n",
              "    }\n",
              "\n",
              "    .colab-df-convert:hover {\n",
              "      background-color: #E2EBFA;\n",
              "      box-shadow: 0px 1px 2px rgba(60, 64, 67, 0.3), 0px 1px 3px 1px rgba(60, 64, 67, 0.15);\n",
              "      fill: #174EA6;\n",
              "    }\n",
              "\n",
              "    [theme=dark] .colab-df-convert {\n",
              "      background-color: #3B4455;\n",
              "      fill: #D2E3FC;\n",
              "    }\n",
              "\n",
              "    [theme=dark] .colab-df-convert:hover {\n",
              "      background-color: #434B5C;\n",
              "      box-shadow: 0px 1px 3px 1px rgba(0, 0, 0, 0.15);\n",
              "      filter: drop-shadow(0px 1px 2px rgba(0, 0, 0, 0.3));\n",
              "      fill: #FFFFFF;\n",
              "    }\n",
              "  </style>\n",
              "\n",
              "      <script>\n",
              "        const buttonEl =\n",
              "          document.querySelector('#df-b489ad1a-5ec7-4d7e-8c0f-cd07f321409f button.colab-df-convert');\n",
              "        buttonEl.style.display =\n",
              "          google.colab.kernel.accessAllowed ? 'block' : 'none';\n",
              "\n",
              "        async function convertToInteractive(key) {\n",
              "          const element = document.querySelector('#df-b489ad1a-5ec7-4d7e-8c0f-cd07f321409f');\n",
              "          const dataTable =\n",
              "            await google.colab.kernel.invokeFunction('convertToInteractive',\n",
              "                                                     [key], {});\n",
              "          if (!dataTable) return;\n",
              "\n",
              "          const docLinkHtml = 'Like what you see? Visit the ' +\n",
              "            '<a target=\"_blank\" href=https://colab.research.google.com/notebooks/data_table.ipynb>data table notebook</a>'\n",
              "            + ' to learn more about interactive tables.';\n",
              "          element.innerHTML = '';\n",
              "          dataTable['output_type'] = 'display_data';\n",
              "          await google.colab.output.renderOutput(dataTable, element);\n",
              "          const docLink = document.createElement('div');\n",
              "          docLink.innerHTML = docLinkHtml;\n",
              "          element.appendChild(docLink);\n",
              "        }\n",
              "      </script>\n",
              "    </div>\n",
              "  </div>\n",
              "  "
            ],
            "text/plain": [
              "      cement    slag    ash   water  plasticizer  coarse_aggregate  \\\n",
              "0     108.30  162.40   0.00  203.50         0.00            938.20   \n",
              "1     122.60  183.90   0.00  203.50         0.00            958.20   \n",
              "2     102.00  153.00   0.00  192.00         0.00            887.00   \n",
              "3     153.00  102.00   0.00  192.00         0.00            888.00   \n",
              "4     141.30  212.00   0.00  203.50         0.00            971.80   \n",
              "...      ...     ...    ...     ...          ...               ...   \n",
              "3301  464.80  255.03   4.56  147.74        24.07           1108.31   \n",
              "3302  544.56   37.07  26.80  173.08         6.26           1238.85   \n",
              "3303  424.47  333.90  58.52  201.71        13.63            957.99   \n",
              "3304  363.52  151.07  49.06  152.31        10.65           1204.45   \n",
              "3305  462.83  262.17  11.01  148.75        23.92            989.30   \n",
              "\n",
              "      fine_aggregate     age    CCS  \n",
              "0             849.00    3.00   2.33  \n",
              "1             800.10    3.00   3.32  \n",
              "2             942.00    3.00   4.57  \n",
              "3             943.10    3.00   4.78  \n",
              "4             748.50    3.00   4.83  \n",
              "...              ...     ...    ...  \n",
              "3301          805.74   90.67  87.41  \n",
              "3302          726.83   60.61  96.25  \n",
              "3303          733.58   63.57  83.45  \n",
              "3304          755.23   58.45  87.49  \n",
              "3305          768.38  114.61  95.63  \n",
              "\n",
              "[3306 rows x 9 columns]"
            ]
          },
          "execution_count": 18,
          "metadata": {},
          "output_type": "execute_result"
        }
      ],
      "source": [
        "df"
      ]
    },
    {
      "cell_type": "code",
      "execution_count": null,
      "metadata": {
        "colab": {
          "base_uri": "https://localhost:8080/"
        },
        "id": "NphAncsVMbGR",
        "outputId": "5b06ff58-1c36-466a-c8ec-f017267efb3f"
      },
      "outputs": [
        {
          "name": "stdout",
          "output_type": "stream",
          "text": [
            "<class 'pandas.core.frame.DataFrame'>\n",
            "RangeIndex: 3306 entries, 0 to 3305\n",
            "Data columns (total 9 columns):\n",
            " #   Column            Non-Null Count  Dtype  \n",
            "---  ------            --------------  -----  \n",
            " 0   cement            3306 non-null   float64\n",
            " 1   slag              3306 non-null   float64\n",
            " 2   ash               3306 non-null   float64\n",
            " 3   water             3306 non-null   float64\n",
            " 4   plasticizer       3306 non-null   float64\n",
            " 5   coarse_aggregate  3306 non-null   float64\n",
            " 6   fine_aggregate    3306 non-null   float64\n",
            " 7   age               3306 non-null   float64\n",
            " 8   CCS               3306 non-null   float64\n",
            "dtypes: float64(9)\n",
            "memory usage: 232.6 KB\n"
          ]
        }
      ],
      "source": [
        "df.info()"
      ]
    },
    {
      "cell_type": "code",
      "execution_count": null,
      "metadata": {
        "colab": {
          "base_uri": "https://localhost:8080/",
          "height": 300
        },
        "id": "LboEHOl5MbDJ",
        "outputId": "f0ca1e96-d115-4da4-c0c8-689a88e21f5d"
      },
      "outputs": [
        {
          "data": {
            "text/html": [
              "\n",
              "  <div id=\"df-a44e20fb-b067-499a-880d-c79995a98b0c\">\n",
              "    <div class=\"colab-df-container\">\n",
              "      <div>\n",
              "<style scoped>\n",
              "    .dataframe tbody tr th:only-of-type {\n",
              "        vertical-align: middle;\n",
              "    }\n",
              "\n",
              "    .dataframe tbody tr th {\n",
              "        vertical-align: top;\n",
              "    }\n",
              "\n",
              "    .dataframe thead th {\n",
              "        text-align: right;\n",
              "    }\n",
              "</style>\n",
              "<table border=\"1\" class=\"dataframe\">\n",
              "  <thead>\n",
              "    <tr style=\"text-align: right;\">\n",
              "      <th></th>\n",
              "      <th>cement</th>\n",
              "      <th>slag</th>\n",
              "      <th>ash</th>\n",
              "      <th>water</th>\n",
              "      <th>plasticizer</th>\n",
              "      <th>coarse_aggregate</th>\n",
              "      <th>fine_aggregate</th>\n",
              "      <th>age</th>\n",
              "      <th>CCS</th>\n",
              "    </tr>\n",
              "  </thead>\n",
              "  <tbody>\n",
              "    <tr>\n",
              "      <th>count</th>\n",
              "      <td>3306.000000</td>\n",
              "      <td>3306.000000</td>\n",
              "      <td>3306.000000</td>\n",
              "      <td>3306.000000</td>\n",
              "      <td>3306.000000</td>\n",
              "      <td>3306.000000</td>\n",
              "      <td>3306.000000</td>\n",
              "      <td>3306.000000</td>\n",
              "      <td>3306.000000</td>\n",
              "    </tr>\n",
              "    <tr>\n",
              "      <th>mean</th>\n",
              "      <td>320.842151</td>\n",
              "      <td>97.916851</td>\n",
              "      <td>75.935910</td>\n",
              "      <td>188.578984</td>\n",
              "      <td>8.569232</td>\n",
              "      <td>1074.751361</td>\n",
              "      <td>802.912314</td>\n",
              "      <td>65.228624</td>\n",
              "      <td>41.764431</td>\n",
              "    </tr>\n",
              "    <tr>\n",
              "      <th>std</th>\n",
              "      <td>111.681651</td>\n",
              "      <td>90.385790</td>\n",
              "      <td>67.263345</td>\n",
              "      <td>22.610091</td>\n",
              "      <td>6.340282</td>\n",
              "      <td>293.051341</td>\n",
              "      <td>85.544799</td>\n",
              "      <td>64.802412</td>\n",
              "      <td>17.376241</td>\n",
              "    </tr>\n",
              "    <tr>\n",
              "      <th>min</th>\n",
              "      <td>102.000000</td>\n",
              "      <td>0.000000</td>\n",
              "      <td>0.000000</td>\n",
              "      <td>121.800000</td>\n",
              "      <td>0.000000</td>\n",
              "      <td>801.000000</td>\n",
              "      <td>594.000000</td>\n",
              "      <td>1.000000</td>\n",
              "      <td>2.330000</td>\n",
              "    </tr>\n",
              "    <tr>\n",
              "      <th>25%</th>\n",
              "      <td>236.000000</td>\n",
              "      <td>19.955000</td>\n",
              "      <td>12.682500</td>\n",
              "      <td>173.000000</td>\n",
              "      <td>3.550000</td>\n",
              "      <td>973.295000</td>\n",
              "      <td>755.297500</td>\n",
              "      <td>28.000000</td>\n",
              "      <td>28.670000</td>\n",
              "    </tr>\n",
              "    <tr>\n",
              "      <th>50%</th>\n",
              "      <td>309.890000</td>\n",
              "      <td>70.675000</td>\n",
              "      <td>54.365000</td>\n",
              "      <td>190.000000</td>\n",
              "      <td>8.385000</td>\n",
              "      <td>1058.725000</td>\n",
              "      <td>805.285000</td>\n",
              "      <td>52.180000</td>\n",
              "      <td>40.670000</td>\n",
              "    </tr>\n",
              "    <tr>\n",
              "      <th>75%</th>\n",
              "      <td>391.355000</td>\n",
              "      <td>169.977500</td>\n",
              "      <td>133.317500</td>\n",
              "      <td>203.152500</td>\n",
              "      <td>12.577500</td>\n",
              "      <td>1150.702500</td>\n",
              "      <td>861.200000</td>\n",
              "      <td>81.030000</td>\n",
              "      <td>53.252500</td>\n",
              "    </tr>\n",
              "    <tr>\n",
              "      <th>max</th>\n",
              "      <td>643.410000</td>\n",
              "      <td>436.310000</td>\n",
              "      <td>259.980000</td>\n",
              "      <td>260.770000</td>\n",
              "      <td>37.800000</td>\n",
              "      <td>10033.670000</td>\n",
              "      <td>1071.050000</td>\n",
              "      <td>424.570000</td>\n",
              "      <td>98.060000</td>\n",
              "    </tr>\n",
              "  </tbody>\n",
              "</table>\n",
              "</div>\n",
              "      <button class=\"colab-df-convert\" onclick=\"convertToInteractive('df-a44e20fb-b067-499a-880d-c79995a98b0c')\"\n",
              "              title=\"Convert this dataframe to an interactive table.\"\n",
              "              style=\"display:none;\">\n",
              "        \n",
              "  <svg xmlns=\"http://www.w3.org/2000/svg\" height=\"24px\"viewBox=\"0 0 24 24\"\n",
              "       width=\"24px\">\n",
              "    <path d=\"M0 0h24v24H0V0z\" fill=\"none\"/>\n",
              "    <path d=\"M18.56 5.44l.94 2.06.94-2.06 2.06-.94-2.06-.94-.94-2.06-.94 2.06-2.06.94zm-11 1L8.5 8.5l.94-2.06 2.06-.94-2.06-.94L8.5 2.5l-.94 2.06-2.06.94zm10 10l.94 2.06.94-2.06 2.06-.94-2.06-.94-.94-2.06-.94 2.06-2.06.94z\"/><path d=\"M17.41 7.96l-1.37-1.37c-.4-.4-.92-.59-1.43-.59-.52 0-1.04.2-1.43.59L10.3 9.45l-7.72 7.72c-.78.78-.78 2.05 0 2.83L4 21.41c.39.39.9.59 1.41.59.51 0 1.02-.2 1.41-.59l7.78-7.78 2.81-2.81c.8-.78.8-2.07 0-2.86zM5.41 20L4 18.59l7.72-7.72 1.47 1.35L5.41 20z\"/>\n",
              "  </svg>\n",
              "      </button>\n",
              "      \n",
              "  <style>\n",
              "    .colab-df-container {\n",
              "      display:flex;\n",
              "      flex-wrap:wrap;\n",
              "      gap: 12px;\n",
              "    }\n",
              "\n",
              "    .colab-df-convert {\n",
              "      background-color: #E8F0FE;\n",
              "      border: none;\n",
              "      border-radius: 50%;\n",
              "      cursor: pointer;\n",
              "      display: none;\n",
              "      fill: #1967D2;\n",
              "      height: 32px;\n",
              "      padding: 0 0 0 0;\n",
              "      width: 32px;\n",
              "    }\n",
              "\n",
              "    .colab-df-convert:hover {\n",
              "      background-color: #E2EBFA;\n",
              "      box-shadow: 0px 1px 2px rgba(60, 64, 67, 0.3), 0px 1px 3px 1px rgba(60, 64, 67, 0.15);\n",
              "      fill: #174EA6;\n",
              "    }\n",
              "\n",
              "    [theme=dark] .colab-df-convert {\n",
              "      background-color: #3B4455;\n",
              "      fill: #D2E3FC;\n",
              "    }\n",
              "\n",
              "    [theme=dark] .colab-df-convert:hover {\n",
              "      background-color: #434B5C;\n",
              "      box-shadow: 0px 1px 3px 1px rgba(0, 0, 0, 0.15);\n",
              "      filter: drop-shadow(0px 1px 2px rgba(0, 0, 0, 0.3));\n",
              "      fill: #FFFFFF;\n",
              "    }\n",
              "  </style>\n",
              "\n",
              "      <script>\n",
              "        const buttonEl =\n",
              "          document.querySelector('#df-a44e20fb-b067-499a-880d-c79995a98b0c button.colab-df-convert');\n",
              "        buttonEl.style.display =\n",
              "          google.colab.kernel.accessAllowed ? 'block' : 'none';\n",
              "\n",
              "        async function convertToInteractive(key) {\n",
              "          const element = document.querySelector('#df-a44e20fb-b067-499a-880d-c79995a98b0c');\n",
              "          const dataTable =\n",
              "            await google.colab.kernel.invokeFunction('convertToInteractive',\n",
              "                                                     [key], {});\n",
              "          if (!dataTable) return;\n",
              "\n",
              "          const docLinkHtml = 'Like what you see? Visit the ' +\n",
              "            '<a target=\"_blank\" href=https://colab.research.google.com/notebooks/data_table.ipynb>data table notebook</a>'\n",
              "            + ' to learn more about interactive tables.';\n",
              "          element.innerHTML = '';\n",
              "          dataTable['output_type'] = 'display_data';\n",
              "          await google.colab.output.renderOutput(dataTable, element);\n",
              "          const docLink = document.createElement('div');\n",
              "          docLink.innerHTML = docLinkHtml;\n",
              "          element.appendChild(docLink);\n",
              "        }\n",
              "      </script>\n",
              "    </div>\n",
              "  </div>\n",
              "  "
            ],
            "text/plain": [
              "            cement         slag          ash        water  plasticizer  \\\n",
              "count  3306.000000  3306.000000  3306.000000  3306.000000  3306.000000   \n",
              "mean    320.842151    97.916851    75.935910   188.578984     8.569232   \n",
              "std     111.681651    90.385790    67.263345    22.610091     6.340282   \n",
              "min     102.000000     0.000000     0.000000   121.800000     0.000000   \n",
              "25%     236.000000    19.955000    12.682500   173.000000     3.550000   \n",
              "50%     309.890000    70.675000    54.365000   190.000000     8.385000   \n",
              "75%     391.355000   169.977500   133.317500   203.152500    12.577500   \n",
              "max     643.410000   436.310000   259.980000   260.770000    37.800000   \n",
              "\n",
              "       coarse_aggregate  fine_aggregate          age          CCS  \n",
              "count       3306.000000     3306.000000  3306.000000  3306.000000  \n",
              "mean        1074.751361      802.912314    65.228624    41.764431  \n",
              "std          293.051341       85.544799    64.802412    17.376241  \n",
              "min          801.000000      594.000000     1.000000     2.330000  \n",
              "25%          973.295000      755.297500    28.000000    28.670000  \n",
              "50%         1058.725000      805.285000    52.180000    40.670000  \n",
              "75%         1150.702500      861.200000    81.030000    53.252500  \n",
              "max        10033.670000     1071.050000   424.570000    98.060000  "
            ]
          },
          "execution_count": 20,
          "metadata": {},
          "output_type": "execute_result"
        }
      ],
      "source": [
        "df.describe()"
      ]
    },
    {
      "cell_type": "code",
      "execution_count": null,
      "metadata": {
        "colab": {
          "base_uri": "https://localhost:8080/"
        },
        "id": "hSVGi2UaLLHf",
        "outputId": "775a714b-a2fa-4e84-c1d5-fa20283b1c10"
      },
      "outputs": [
        {
          "data": {
            "text/plain": [
              "cement              0\n",
              "slag                0\n",
              "ash                 0\n",
              "water               0\n",
              "plasticizer         0\n",
              "coarse_aggregate    0\n",
              "fine_aggregate      0\n",
              "age                 0\n",
              "CCS                 0\n",
              "dtype: int64"
            ]
          },
          "execution_count": 21,
          "metadata": {},
          "output_type": "execute_result"
        }
      ],
      "source": [
        "df.isnull().sum()"
      ]
    },
    {
      "cell_type": "markdown",
      "metadata": {
        "id": "jrgJYqBHOWFz"
      },
      "source": [
        "If number of null values are non-zero in any feature, uncomment the code below."
      ]
    },
    {
      "cell_type": "code",
      "execution_count": null,
      "metadata": {
        "id": "MiV2JYeTMZwO"
      },
      "outputs": [],
      "source": [
        "# num= df.select_dtypes(include=['int64','float64']).keys()\n",
        "# from sklearn.impute import SimpleImputer\n",
        "# impute=SimpleImputer(strategy='mean')\n",
        "# impute_fit= impute.fit(df[num])\n",
        "# df[num]= impute_fit.transform(df[num])\n",
        "# df"
      ]
    },
    {
      "cell_type": "markdown",
      "metadata": {
        "id": "WLXD1IJMOniB"
      },
      "source": [
        "#Pair Plot"
      ]
    },
    {
      "cell_type": "code",
      "execution_count": null,
      "metadata": {
        "id": "cX6L5y7cMZth"
      },
      "outputs": [],
      "source": [
        "sb.pairplot(df);"
      ]
    },
    {
      "cell_type": "code",
      "execution_count": null,
      "metadata": {
        "id": "0i9Eh1KGMZq2"
      },
      "outputs": [],
      "source": [
        "# scatter plot of Water and Cement\n",
        "plt.figure(figsize=[17,9])\n",
        "plt.scatter(y='CCS',x='cement',edgecolors='red',data=df)\n",
        "plt.ylabel('CCS')\n",
        "plt.xlabel('cement')"
      ]
    },
    {
      "cell_type": "code",
      "execution_count": null,
      "metadata": {
        "colab": {
          "background_save": true
        },
        "id": "LqFPFd7RMZnw",
        "outputId": "d4fb8c8f-b359-499a-8fb5-e2db14bd32a4"
      },
      "outputs": [
        {
          "data": {
            "text/plain": [
              "Text(0.5, 0, 'ash')"
            ]
          },
          "execution_count": 25,
          "metadata": {},
          "output_type": "execute_result"
        },
        {
          "data": {
            "image/png": "[encoded data removed]",
            "text/plain": [
              "<Figure size 1224x648 with 1 Axes>"
            ]
          },
          "metadata": {},
          "output_type": "display_data"
        }
      ],
      "source": [
        "plt.figure(figsize=[17,9])\n",
        "plt.scatter(y='CCS',x='ash',edgecolors='blue',data=df)\n",
        "plt.ylabel('CCS')\n",
        "plt.xlabel('ash')"
      ]
    },
    {
      "cell_type": "code",
      "execution_count": null,
      "metadata": {
        "colab": {
          "background_save": true
        },
        "id": "cCIc33xXMZlC",
        "outputId": "38add55a-38b7-44e1-86a4-e9902116fa1e"
      },
      "outputs": [
        {
          "data": {
            "text/plain": [
              "<matplotlib.axes._subplots.AxesSubplot at 0x7f725923af50>"
            ]
          },
          "execution_count": 26,
          "metadata": {},
          "output_type": "execute_result"
        },
        {
          "data": {
            "image/png": "[encoded data removed]",
            "text/plain": [
              "<Figure size 1224x576 with 2 Axes>"
            ]
          },
          "metadata": {},
          "output_type": "display_data"
        }
      ],
      "source": [
        "plt.figure(figsize=[17,8])\n",
        "#ploting correlation plot\n",
        "sb.heatmap(df.corr(),annot=True)"
      ]
    },
    {
      "cell_type": "code",
      "execution_count": null,
      "metadata": {
        "id": "JkoGPj8MMZiS"
      },
      "outputs": [],
      "source": [
        "l=['cement','slag','ash','water','plasticizer','coarse_aggregate','fine_aggregate','age','CCS']\n",
        "for i in l:\n",
        "    sb.boxplot(x=df[i])\n",
        "    plt.show()"
      ]
    },
    {
      "cell_type": "code",
      "execution_count": null,
      "metadata": {
        "id": "t_64OpaJMZfs"
      },
      "outputs": [],
      "source": [
        "# independent variables\n",
        "x = df.drop(['CCS'],axis=1)\n",
        "# dependent variables\n",
        "y = df['CCS']"
      ]
    },
    {
      "cell_type": "code",
      "execution_count": null,
      "metadata": {
        "id": "CGIktxrzMZdL"
      },
      "outputs": [],
      "source": [
        "# importing train_test_split\n",
        "from sklearn.model_selection import train_test_split\n",
        "xtrain,xtest,ytrain,ytest= train_test_split(x,y,test_size=0.3,random_state=42)"
      ]
    },
    {
      "cell_type": "code",
      "execution_count": null,
      "metadata": {
        "id": "YSJ08cgxMZat"
      },
      "outputs": [],
      "source": [
        "from sklearn.preprocessing import StandardScaler\n",
        "stand= StandardScaler()\n",
        "Fit = stand.fit(xtrain)\n",
        "xtrain_scl = Fit.transform(xtrain)\n",
        "xtest_scl = Fit.transform(xtest)"
      ]
    },
    {
      "cell_type": "code",
      "execution_count": null,
      "metadata": {
        "id": "7nC1ctlkMZYJ"
      },
      "outputs": [],
      "source": [
        "# import linear regression models\n",
        "from sklearn.linear_model import LinearRegression\n",
        "from sklearn.metrics import mean_squared_error\n",
        "lr=LinearRegression()\n",
        "fit=lr.fit(xtrain_scl,ytrain)\n",
        "score = lr.score(xtest_scl,ytest)\n",
        "print('Predicted score is : {}'.format(score))\n",
        "y_predict = lr.predict(xtest_scl)\n",
        "print('mean_sqrd_error is : ',mean_squared_error(ytest,y_predict))\n",
        "rms = np.sqrt(mean_squared_error(ytest,y_predict))\n",
        "print('root mean squared error is : {}'.format(rms))"
      ]
    },
    {
      "cell_type": "code",
      "execution_count": null,
      "metadata": {
        "id": "rVxHp-SGMZVZ"
      },
      "outputs": [],
      "source": [
        "plt.figure(figsize=[17,8])\n",
        "plt.scatter(y_predict,ytest)\n",
        "plt.plot([ytest.min(), ytest.max()], [ytest.min(), ytest.max()], color='red')\n",
        "plt.xlabel('predicted')\n",
        "plt.ylabel('orignal')\n",
        "plt.show()"
      ]
    },
    {
      "cell_type": "code",
      "execution_count": null,
      "metadata": {
        "id": "mpJMk0bISB5m"
      },
      "outputs": [],
      "source": [
        "x_predict = list(lr.predict(xtest))\n",
        "predicted_df = {'predicted_values': x_predict, 'original_values': ytest}\n",
        "#creating new dataframe\n",
        "pd.DataFrame(predicted_df).head(20)"
      ]
    },
    {
      "cell_type": "code",
      "execution_count": null,
      "metadata": {
        "id": "tDYV02DASCV0"
      },
      "outputs": [],
      "source": [
        "# import rigd and lasso regresion\n",
        "from sklearn.linear_model import Ridge,Lasso\n",
        "from sklearn.metrics import mean_squared_error\n",
        "rd= Ridge(alpha=0.4)\n",
        "ls= Lasso(alpha=0.3)\n",
        "fit_rd=rd.fit(xtrain_scl,ytrain)\n",
        "fit_ls = ls.fit(xtrain_scl,ytrain)\n",
        "print('score od ridge regression is:-',rd.score(xtest_scl,ytest))\n",
        "print('.......................................................')\n",
        "print('score of lasso is:-',ls.score(xtest_scl,ytest))\n",
        "print('mean_sqrd_roor of ridig is==',mean_squared_error(ytest,rd.predict(xtest_scl)))\n",
        "print('mean_sqrd_roor of lasso is==',mean_squared_error(ytest,ls.predict(xtest_scl)))\n",
        "print('root_mean_squared error of ridge is==',np.sqrt(mean_squared_error(ytest,rd.predict(xtest_scl))))\n",
        "print('root_mean_squared error of lasso is==',np.sqrt(mean_squared_error(ytest,lr.predict(xtest_scl))))"
      ]
    },
    {
      "cell_type": "code",
      "execution_count": null,
      "metadata": {
        "id": "5U378hMFCrth"
      },
      "outputs": [],
      "source": [
        "plt.figure(figsize=[17,8])\n",
        "plt.scatter(y_predict,ytest)\n",
        "plt.plot([ytest.min(), ytest.max()], [ytest.min(), ytest.max()], color='red')\n",
        "plt.xlabel('predicted')\n",
        "plt.ylabel('orignal')\n",
        "plt.show()"
      ]
    },
    {
      "cell_type": "code",
      "execution_count": null,
      "metadata": {
        "id": "-gj7oXorCyhH"
      },
      "outputs": [],
      "source": [
        "plt.figure(figsize=[17,8])\n",
        "plt.scatter(y_predict,ytest)\n",
        "plt.plot([ytest.min(), ytest.max()], [ytest.min(), ytest.max()], color='red')\n",
        "plt.xlabel('predicted')\n",
        "plt.ylabel('orignal')\n",
        "plt.show()"
      ]
    },
    {
      "cell_type": "code",
      "execution_count": null,
      "metadata": {
        "id": "OM1VBAV7C12g"
      },
      "outputs": [],
      "source": [
        "# import random forest regression\n",
        "from sklearn.ensemble import RandomForestRegressor\n",
        "from sklearn.metrics import mean_squared_error\n",
        "rnd= RandomForestRegressor(ccp_alpha=0.0)\n",
        "fit_rnd= rnd.fit(xtrain_scl,ytrain)\n",
        "print('score is:-',rnd.score(xtest_scl,ytest))\n",
        "print('........................................')\n",
        "print('mean_sqrd_error is==',mean_squared_error(ytest,rnd.predict(xtest_scl)))\n",
        "print('root_mean_squared error of is==',np.sqrt(mean_squared_error(ytest,rnd.predict(xtest_scl))))"
      ]
    },
    {
      "cell_type": "code",
      "execution_count": null,
      "metadata": {
        "id": "mLJJnU5pC4x-"
      },
      "outputs": [],
      "source": [
        "x_predict = list(rnd.predict(xtest))\n",
        "predicted_df = {'predicted_values': x_predict, 'original_values': ytest}\n",
        "#creating new dataframe\n",
        "pd.DataFrame(predicted_df).head(20)"
      ]
    },
    {
      "cell_type": "code",
      "execution_count": null,
      "metadata": {
        "id": "3MNqsVqSC9NB"
      },
      "outputs": [],
      "source": [
        "import pickle\n",
        "file = 'concrete_strength'\n",
        "save = pickle.dump(rnd,open(file,'wb'))"
      ]
    },
    {
      "cell_type": "code",
      "execution_count": null,
      "metadata": {
        "id": "n15PIiRyDpk6"
      },
      "outputs": [],
      "source": []
    }
  ],
  "metadata": {
    "colab": {
      "provenance": []
    },
    "kernelspec": {
      "display_name": "Python 3",
      "name": "python3"
    },
    "language_info": {
      "name": "python"
    }
  },
  "nbformat": 4,
  "nbformat_minor": 0
}